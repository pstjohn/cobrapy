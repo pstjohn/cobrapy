{
 "cells": [
  {
   "cell_type": "markdown",
   "metadata": {},
   "source": [
    "# Gapfillling\n",
    "\n",
    "GrowMatch and SMILEY are gap-filling algorithms, which try to to make the minimal number of changes to a model and allow it to simulate growth. For more information, see [Kumar et al.](http://dx.doi.org/10.1371/journal.pcbi.1000308). Please note that these algorithms are Mixed-Integer Linear Programs, which need solvers such as gurobi or cplex to function correctly."
   ]
  },
  {
   "cell_type": "code",
   "execution_count": 1,
   "metadata": {
    "collapsed": false
   },
   "outputs": [],
   "source": [
    "import cobra.test\n",
    "\n",
    "model = cobra.test.create_test_model(\"salmonella\")"
   ]
  },
  {
   "cell_type": "markdown",
   "metadata": {},
   "source": [
    "In this model D-Fructose-6-phosphate is an essential metabolite. We will remove all the reactions using it, and at them to a separate model."
   ]
  },
  {
   "cell_type": "code",
   "execution_count": 2,
   "metadata": {
    "collapsed": true
   },
   "outputs": [],
   "source": [
    "# remove some reactions and add them to the universal reactions\n",
    "Universal = cobra.Model(\"Universal_Reactions\")\n",
    "for i in [i.id for i in model.metabolites.f6p_c.reactions]:\n",
    "    reaction = model.reactions.get_by_id(i)\n",
    "    Universal.add_reaction(reaction.copy())\n",
    "    reaction.remove_from_model()"
   ]
  },
  {
   "cell_type": "markdown",
   "metadata": {},
   "source": [
    "Now, because of these gaps, the model won't grow."
   ]
  },
  {
   "cell_type": "code",
   "execution_count": 3,
   "metadata": {
    "collapsed": false
   },
   "outputs": [
    {
     "data": {
      "text/plain": [
       "2.821531499799383e-12"
      ]
     },
     "execution_count": 3,
     "metadata": {},
     "output_type": "execute_result"
    }
   ],
   "source": [
    "model.optimize().f"
   ]
  },
  {
   "cell_type": "markdown",
   "metadata": {},
   "source": [
    "## GrowMatch\n",
    "\n",
    "We will use GrowMatch to add back the minimal number of reactions from this set of \"universal\" reactions (in this case just the ones we removed) to allow it to grow."
   ]
  },
  {
   "cell_type": "code",
   "execution_count": 4,
   "metadata": {
    "collapsed": false
   },
   "outputs": [
    {
     "data": {
      "text/plain": [
       "[[<Reaction GF6PTA at 0x7ff37ea07910>,\n",
       "  <Reaction FBP at 0x7ff37ea07950>,\n",
       "  <Reaction PGI_reverse at 0x7ff37ea07c90>,\n",
       "  <Reaction MAN6PI_reverse at 0x7ff37ea07cd0>,\n",
       "  <Reaction TKT2_reverse at 0x7ff37ea07d90>]]"
      ]
     },
     "execution_count": 4,
     "metadata": {},
     "output_type": "execute_result"
    }
   ],
   "source": [
    "cobra.flux_analysis.growMatch(model, Universal)"
   ]
  },
  {
   "cell_type": "markdown",
   "metadata": {},
   "source": [
    "We can obtain multiple possible reaction sets by having the algorithm go through multiple iterations."
   ]
  },
  {
   "cell_type": "code",
   "execution_count": 5,
   "metadata": {
    "collapsed": false
   },
   "outputs": [
    {
     "name": "stdout",
     "output_type": "stream",
     "text": [
      "---- Run 1 ----\n",
      "F6PP\n",
      "GF6PTA\n",
      "FBP\n",
      "MAN6PI_reverse\n",
      "TKT2_reverse\n",
      "---- Run 2 ----\n",
      "GF6PTA\n",
      "TALA\n",
      "PGI_reverse\n",
      "MAN6PI_reverse\n",
      "F6PA_reverse\n",
      "---- Run 3 ----\n",
      "GF6PTA\n",
      "FBP\n",
      "PGI_reverse\n",
      "MAN6PI_reverse\n",
      "TKT2_reverse\n",
      "---- Run 4 ----\n",
      "F6PP\n",
      "GF6PTA\n",
      "TALA\n",
      "MAN6PI_reverse\n",
      "F6PA_reverse\n"
     ]
    }
   ],
   "source": [
    "result = cobra.flux_analysis.growMatch(model, Universal,\n",
    "                                       iterations=4)\n",
    "for i, entries in enumerate(result):\n",
    "    print(\"---- Run %d ----\" % (i + 1))\n",
    "    for e in entries:\n",
    "        print(e.id)"
   ]
  },
  {
   "cell_type": "markdown",
   "metadata": {},
   "source": [
    "## SMILEY\n",
    "\n",
    "SMILEY is very similar to growMatch, only instead of setting growth as the objective, it sets production of a specific metabolite"
   ]
  },
  {
   "cell_type": "code",
   "execution_count": 6,
   "metadata": {
    "collapsed": false
   },
   "outputs": [
    {
     "data": {
      "text/plain": [
       "[[<Reaction GF6PTA at 0x7ff37c1cb950>,\n",
       "  <Reaction PGI_reverse at 0x7ff37c1cbcd0>,\n",
       "  <Reaction MAN6PI_reverse at 0x7ff37c1cbd10>,\n",
       "  <Reaction F6PA_reverse at 0x7ff37c1cbd50>,\n",
       "  <Reaction TKT2_reverse at 0x7ff37c1cbdd0>]]"
      ]
     },
     "execution_count": 6,
     "metadata": {},
     "output_type": "execute_result"
    }
   ],
   "source": [
    "cobra.flux_analysis.gapfilling.SMILEY(model, \"ac_e\", Universal)"
   ]
  }
 ],
 "metadata": {
  "kernelspec": {
   "display_name": "Python 2",
   "language": "python",
   "name": "python2"
  },
  "language_info": {
   "codemirror_mode": {
    "name": "ipython",
    "version": 2
   },
   "file_extension": ".py",
   "mimetype": "text/x-python",
   "name": "python",
   "nbconvert_exporter": "python",
   "pygments_lexer": "ipython2",
   "version": "2.7.6"
  }
 },
 "nbformat": 4,
 "nbformat_minor": 0
}
