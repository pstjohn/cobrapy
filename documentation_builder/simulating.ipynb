{
 "cells": [
  {
   "cell_type": "markdown",
   "metadata": {},
   "source": [
    "# Simulating with FBA\n",
    "\n",
    "Simulations using flux balance analysis can be solved using Model.optimize(). This will maximize or minimize (maximizing is the default) flux through the objective reactions."
   ]
  },
  {
   "cell_type": "code",
   "execution_count": 1,
   "metadata": {
    "collapsed": false
   },
   "outputs": [],
   "source": [
    "import pandas\n",
    "pandas.options.display.max_rows = 100\n",
    "\n",
    "import cobra.test\n",
    "model = cobra.test.create_test_model(\"textbook\")"
   ]
  },
  {
   "cell_type": "markdown",
   "metadata": {},
   "source": [
    "## Running FBA"
   ]
  },
  {
   "cell_type": "code",
   "execution_count": 2,
   "metadata": {
    "collapsed": false
   },
   "outputs": [
    {
     "data": {
      "text/plain": [
       "<Solution 0.87 at 0x10f309b10>"
      ]
     },
     "execution_count": 2,
     "metadata": {},
     "output_type": "execute_result"
    }
   ],
   "source": [
    "model.optimize()"
   ]
  },
  {
   "cell_type": "markdown",
   "metadata": {},
   "source": [
    "The Model.optimize() function will return a Solution object, which will also be stored at model.solution. A solution object has several attributes:\n",
    "\n",
    " - f: the objective value\n",
    " - status: the status from the linear programming solver\n",
    " - x_dict: a dictionary of {reaction_id: flux_value} (also called \"primal\")\n",
    " - x: a list for x_dict\n",
    " - y_dict: a dictionary of {metabolite_id: dual_value}.\n",
    " - y: a list for y_dict"
   ]
  },
  {
   "cell_type": "markdown",
   "metadata": {},
   "source": [
    "For example, after the last call to model.optimize(), the status should be 'optimal' if the solver returned no errors, and f should be the objective value"
   ]
  },
  {
   "cell_type": "code",
   "execution_count": 3,
   "metadata": {
    "collapsed": false
   },
   "outputs": [
    {
     "data": {
      "text/plain": [
       "'optimal'"
      ]
     },
     "execution_count": 3,
     "metadata": {},
     "output_type": "execute_result"
    }
   ],
   "source": [
    "model.solution.status"
   ]
  },
  {
   "cell_type": "code",
   "execution_count": 4,
   "metadata": {
    "collapsed": false
   },
   "outputs": [
    {
     "data": {
      "text/plain": [
       "0.8739215069684304"
      ]
     },
     "execution_count": 4,
     "metadata": {},
     "output_type": "execute_result"
    }
   ],
   "source": [
    "model.solution.f"
   ]
  },
  {
   "cell_type": "markdown",
   "metadata": {},
   "source": [
    "### Analyzing FBA solutions\n",
    "Models solved using FBA can be further analyzed by using summary methods, which output printed text to give a quick representation of model behavior. Calling the summary method on the entire model displays information on the input and output behavior of the model, along with the optimized objective."
   ]
  },
  {
   "cell_type": "code",
   "execution_count": 5,
   "metadata": {
    "collapsed": false
   },
   "outputs": [
    {
     "name": "stdout",
     "output_type": "stream",
     "text": [
      "IN FLUXES                     OUT FLUXES                    OBJECTIVES          \n",
      "o2_e       -21.80             h2o_e    29.18                Biomass_Ecoli_core    0.874\n",
      "glc__D_e   -10.00             co2_e    22.81                                    \n",
      "nh4_e       -4.77             h_e      17.53                                    \n",
      "pi_e        -3.21                                                               \n"
     ]
    }
   ],
   "source": [
    "model.summary()"
   ]
  },
  {
   "cell_type": "markdown",
   "metadata": {},
   "source": [
    "In addition, the input-output behavior of individual metabolites can also be inspected using summary methods. For instance, the following commands can be used to examine the overall redox balance of the model"
   ]
  },
  {
   "cell_type": "code",
   "execution_count": 6,
   "metadata": {
    "collapsed": false
   },
   "outputs": [
    {
     "name": "stdout",
     "output_type": "stream",
     "text": [
      "PRODUCING REACTIONS -- Nicotinamide adenine dinucleotide - reduced\n",
      "------------------------------------------------------------------\n",
      "  %      FLUX   RXN ID                        REACTION                       \n",
      " 41.6%     16     GAPD        g3p_c + nad_c + pi_c <=> 13dpg_c + h_c + nadh_c\n",
      " 24.1%    9.3      PDH     coa_c + nad_c + pyr_c --> accoa_c + co2_c + nadh_c\n",
      " 13.1%    5.1      MDH              mal__L_c + nad_c <=> h_c + nadh_c + oaa_c\n",
      " 13.1%    5.1    AKGDH    akg_c + coa_c + nad_c --> co2_c + nadh_c + succoa_c\n",
      "  8.0%    3.1 Bioma...   1.496 3pg_c + 3.7478 accoa_c + 59.81 atp_c + 0.36...\n",
      "\n",
      "CONSUMING REACTIONS -- Nicotinamide adenine dinucleotide - reduced\n",
      "------------------------------------------------------------------\n",
      "  %      FLUX   RXN ID                        REACTION                       \n",
      "100.0%    -39   NADH16   4.0 h_c + nadh_c + q8_c --> 3.0 h_e + nad_c + q8h2_c\n"
     ]
    }
   ],
   "source": [
    "model.metabolites.nadh_c.summary()"
   ]
  },
  {
   "cell_type": "markdown",
   "metadata": {},
   "source": [
    "Or to get a sense of the main energy production and consumption reactions"
   ]
  },
  {
   "cell_type": "code",
   "execution_count": 7,
   "metadata": {
    "collapsed": false
   },
   "outputs": [
    {
     "name": "stdout",
     "output_type": "stream",
     "text": [
      "PRODUCING REACTIONS -- ATP\n",
      "--------------------------\n",
      "  %      FLUX   RXN ID                        REACTION                       \n",
      " 66.6%     46   ATPS4r     adp_c + 4.0 h_e + pi_c <=> atp_c + h2o_c + 3.0 h_c\n",
      " 23.4%     16      PGK                      3pg_c + atp_c <=> 13dpg_c + adp_c\n",
      "  7.4%    5.1   SUCOAS     atp_c + coa_c + succ_c <=> adp_c + pi_c + succoa_c\n",
      "  2.6%    1.8      PYK                  adp_c + h_c + pep_c --> atp_c + pyr_c\n",
      "\n",
      "CONSUMING REACTIONS -- ATP\n",
      "--------------------------\n",
      "  %      FLUX   RXN ID                        REACTION                       \n",
      " 76.5%    -52 Bioma...   1.496 3pg_c + 3.7478 accoa_c + 59.81 atp_c + 0.36...\n",
      " 12.3%   -8.4     ATPM                   atp_c + h2o_c --> adp_c + h_c + pi_c\n",
      " 10.9%   -7.5      PFK                  atp_c + f6p_c --> adp_c + fdp_c + h_c\n"
     ]
    }
   ],
   "source": [
    "model.metabolites.atp_c.summary()"
   ]
  },
  {
   "cell_type": "markdown",
   "metadata": {},
   "source": [
    "## Changing the Objectives\n",
    "\n",
    "The objective function is determined from the objective_coefficient attribute of the objective reaction(s). Generally, a \"biomass\" function which describes the composition of metabolites which make up a cell is used."
   ]
  },
  {
   "cell_type": "code",
   "execution_count": 8,
   "metadata": {
    "collapsed": false
   },
   "outputs": [],
   "source": [
    "biomass_rxn = model.reactions.get_by_id(\"Biomass_Ecoli_core\")"
   ]
  },
  {
   "cell_type": "markdown",
   "metadata": {},
   "source": [
    "Currently in the model, there is only one objective reaction (the biomass reaction), with an objective coefficient of 1."
   ]
  },
  {
   "cell_type": "code",
   "execution_count": 9,
   "metadata": {
    "collapsed": false
   },
   "outputs": [
    {
     "data": {
      "text/plain": [
       "{<Reaction Biomass_Ecoli_core at 0x10f085bd0>: 1.0}"
      ]
     },
     "execution_count": 9,
     "metadata": {},
     "output_type": "execute_result"
    }
   ],
   "source": [
    "model.objective"
   ]
  },
  {
   "cell_type": "markdown",
   "metadata": {},
   "source": [
    "The objective function can be changed by assigning Model.objective, which can be a reaction object (or just it's name), or a dict of {Reaction: objective_coefficient}."
   ]
  },
  {
   "cell_type": "code",
   "execution_count": 10,
   "metadata": {
    "collapsed": false
   },
   "outputs": [
    {
     "data": {
      "text/plain": [
       "{<Reaction ATPM at 0x10f0b1dd0>: 1}"
      ]
     },
     "execution_count": 10,
     "metadata": {},
     "output_type": "execute_result"
    }
   ],
   "source": [
    "# change the objective to ATPM\n",
    "model.objective = \"ATPM\"\n",
    "\n",
    "# The upper bound should be 1000, so that we get\n",
    "# the actual optimal value\n",
    "model.reactions.get_by_id(\"ATPM\").upper_bound = 1000.\n",
    "model.objective"
   ]
  },
  {
   "cell_type": "code",
   "execution_count": 11,
   "metadata": {
    "collapsed": false
   },
   "outputs": [
    {
     "data": {
      "text/plain": [
       "175.0"
      ]
     },
     "execution_count": 11,
     "metadata": {},
     "output_type": "execute_result"
    }
   ],
   "source": [
    "model.optimize().f"
   ]
  },
  {
   "cell_type": "markdown",
   "metadata": {},
   "source": [
    "The objective function can also be changed by setting Reaction.objective_coefficient directly."
   ]
  },
  {
   "cell_type": "code",
   "execution_count": 12,
   "metadata": {
    "collapsed": false
   },
   "outputs": [
    {
     "data": {
      "text/plain": [
       "{<Reaction Biomass_Ecoli_core at 0x10f085bd0>: 1.0}"
      ]
     },
     "execution_count": 12,
     "metadata": {},
     "output_type": "execute_result"
    }
   ],
   "source": [
    "model.reactions.get_by_id(\"ATPM\").objective_coefficient = 0.\n",
    "biomass_rxn.objective_coefficient = 1.\n",
    "\n",
    "model.objective"
   ]
  },
  {
   "cell_type": "markdown",
   "metadata": {},
   "source": [
    "## Running FVA\n",
    "\n",
    "FBA will not give always give unique solution, because multiple flux states can achieve the same optimum. FVA (or flux variability analysis) finds the ranges of each metabolic flux at the optimum."
   ]
  },
  {
   "cell_type": "code",
   "execution_count": 13,
   "metadata": {
    "collapsed": false
   },
   "outputs": [
    {
     "data": {
      "text/html": [
       "<div>\n",
       "<table border=\"1\" class=\"dataframe\">\n",
       "  <thead>\n",
       "    <tr style=\"text-align: right;\">\n",
       "      <th></th>\n",
       "      <th>maximum</th>\n",
       "      <th>minimum</th>\n",
       "    </tr>\n",
       "  </thead>\n",
       "  <tbody>\n",
       "    <tr>\n",
       "      <th>ACALD</th>\n",
       "      <td>0.000000</td>\n",
       "      <td>0.000000</td>\n",
       "    </tr>\n",
       "    <tr>\n",
       "      <th>ACALDt</th>\n",
       "      <td>0.000000</td>\n",
       "      <td>0.000000</td>\n",
       "    </tr>\n",
       "    <tr>\n",
       "      <th>ACKr</th>\n",
       "      <td>0.000000</td>\n",
       "      <td>0.000000</td>\n",
       "    </tr>\n",
       "    <tr>\n",
       "      <th>ACONTa</th>\n",
       "      <td>6.007250</td>\n",
       "      <td>6.007250</td>\n",
       "    </tr>\n",
       "    <tr>\n",
       "      <th>ACONTb</th>\n",
       "      <td>6.007250</td>\n",
       "      <td>6.007250</td>\n",
       "    </tr>\n",
       "    <tr>\n",
       "      <th>ACt2r</th>\n",
       "      <td>0.000000</td>\n",
       "      <td>0.000000</td>\n",
       "    </tr>\n",
       "    <tr>\n",
       "      <th>ADK1</th>\n",
       "      <td>0.000000</td>\n",
       "      <td>0.000000</td>\n",
       "    </tr>\n",
       "    <tr>\n",
       "      <th>AKGDH</th>\n",
       "      <td>5.064376</td>\n",
       "      <td>5.064376</td>\n",
       "    </tr>\n",
       "    <tr>\n",
       "      <th>AKGt2r</th>\n",
       "      <td>0.000000</td>\n",
       "      <td>0.000000</td>\n",
       "    </tr>\n",
       "    <tr>\n",
       "      <th>ALCD2x</th>\n",
       "      <td>0.000000</td>\n",
       "      <td>0.000000</td>\n",
       "    </tr>\n",
       "    <tr>\n",
       "      <th>ATPM</th>\n",
       "      <td>8.390000</td>\n",
       "      <td>8.390000</td>\n",
       "    </tr>\n",
       "    <tr>\n",
       "      <th>ATPS4r</th>\n",
       "      <td>45.514010</td>\n",
       "      <td>45.514010</td>\n",
       "    </tr>\n",
       "    <tr>\n",
       "      <th>Biomass_Ecoli_core</th>\n",
       "      <td>0.873922</td>\n",
       "      <td>0.873922</td>\n",
       "    </tr>\n",
       "    <tr>\n",
       "      <th>CO2t</th>\n",
       "      <td>-22.809833</td>\n",
       "      <td>-22.809833</td>\n",
       "    </tr>\n",
       "    <tr>\n",
       "      <th>CS</th>\n",
       "      <td>6.007250</td>\n",
       "      <td>6.007250</td>\n",
       "    </tr>\n",
       "    <tr>\n",
       "      <th>CYTBD</th>\n",
       "      <td>43.598985</td>\n",
       "      <td>43.598985</td>\n",
       "    </tr>\n",
       "    <tr>\n",
       "      <th>D_LACt2</th>\n",
       "      <td>0.000000</td>\n",
       "      <td>0.000000</td>\n",
       "    </tr>\n",
       "    <tr>\n",
       "      <th>ENO</th>\n",
       "      <td>14.716140</td>\n",
       "      <td>14.716140</td>\n",
       "    </tr>\n",
       "    <tr>\n",
       "      <th>ETOHt2r</th>\n",
       "      <td>0.000000</td>\n",
       "      <td>0.000000</td>\n",
       "    </tr>\n",
       "    <tr>\n",
       "      <th>EX_ac_e</th>\n",
       "      <td>0.000000</td>\n",
       "      <td>0.000000</td>\n",
       "    </tr>\n",
       "  </tbody>\n",
       "</table>\n",
       "</div>"
      ],
      "text/plain": [
       "                      maximum    minimum\n",
       "ACALD                0.000000   0.000000\n",
       "ACALDt               0.000000   0.000000\n",
       "ACKr                 0.000000   0.000000\n",
       "ACONTa               6.007250   6.007250\n",
       "ACONTb               6.007250   6.007250\n",
       "ACt2r                0.000000   0.000000\n",
       "ADK1                 0.000000   0.000000\n",
       "AKGDH                5.064376   5.064376\n",
       "AKGt2r               0.000000   0.000000\n",
       "ALCD2x               0.000000   0.000000\n",
       "ATPM                 8.390000   8.390000\n",
       "ATPS4r              45.514010  45.514010\n",
       "Biomass_Ecoli_core   0.873922   0.873922\n",
       "CO2t               -22.809833 -22.809833\n",
       "CS                   6.007250   6.007250\n",
       "CYTBD               43.598985  43.598985\n",
       "D_LACt2              0.000000   0.000000\n",
       "ENO                 14.716140  14.716140\n",
       "ETOHt2r              0.000000   0.000000\n",
       "EX_ac_e              0.000000   0.000000"
      ]
     },
     "execution_count": 13,
     "metadata": {},
     "output_type": "execute_result"
    }
   ],
   "source": [
    "fva_result = cobra.flux_analysis.flux_variability_analysis(\n",
    "    model, model.reactions[:20])\n",
    "pandas.DataFrame.from_dict(fva_result).T"
   ]
  },
  {
   "cell_type": "markdown",
   "metadata": {},
   "source": [
    "Setting parameter fraction_of_optimium=0.90 would give the flux ranges for reactions at 90% optimality."
   ]
  },
  {
   "cell_type": "code",
   "execution_count": 14,
   "metadata": {
    "collapsed": false
   },
   "outputs": [
    {
     "data": {
      "text/html": [
       "<div>\n",
       "<table border=\"1\" class=\"dataframe\">\n",
       "  <thead>\n",
       "    <tr style=\"text-align: right;\">\n",
       "      <th></th>\n",
       "      <th>maximum</th>\n",
       "      <th>minimum</th>\n",
       "    </tr>\n",
       "  </thead>\n",
       "  <tbody>\n",
       "    <tr>\n",
       "      <th>ACALD</th>\n",
       "      <td>0.000000</td>\n",
       "      <td>-2.542370</td>\n",
       "    </tr>\n",
       "    <tr>\n",
       "      <th>ACALDt</th>\n",
       "      <td>0.000000</td>\n",
       "      <td>-2.542370</td>\n",
       "    </tr>\n",
       "    <tr>\n",
       "      <th>ACKr</th>\n",
       "      <td>0.000000</td>\n",
       "      <td>-3.813556</td>\n",
       "    </tr>\n",
       "    <tr>\n",
       "      <th>ACONTa</th>\n",
       "      <td>8.894520</td>\n",
       "      <td>0.848587</td>\n",
       "    </tr>\n",
       "    <tr>\n",
       "      <th>ACONTb</th>\n",
       "      <td>8.894520</td>\n",
       "      <td>0.848587</td>\n",
       "    </tr>\n",
       "    <tr>\n",
       "      <th>ACt2r</th>\n",
       "      <td>0.000000</td>\n",
       "      <td>-3.813556</td>\n",
       "    </tr>\n",
       "    <tr>\n",
       "      <th>ADK1</th>\n",
       "      <td>17.161000</td>\n",
       "      <td>0.000000</td>\n",
       "    </tr>\n",
       "    <tr>\n",
       "      <th>AKGDH</th>\n",
       "      <td>8.045934</td>\n",
       "      <td>0.000000</td>\n",
       "    </tr>\n",
       "    <tr>\n",
       "      <th>AKGt2r</th>\n",
       "      <td>0.000000</td>\n",
       "      <td>-1.430083</td>\n",
       "    </tr>\n",
       "    <tr>\n",
       "      <th>ALCD2x</th>\n",
       "      <td>0.000000</td>\n",
       "      <td>-2.214323</td>\n",
       "    </tr>\n",
       "    <tr>\n",
       "      <th>ATPM</th>\n",
       "      <td>25.551000</td>\n",
       "      <td>8.390000</td>\n",
       "    </tr>\n",
       "    <tr>\n",
       "      <th>ATPS4r</th>\n",
       "      <td>59.381062</td>\n",
       "      <td>34.825618</td>\n",
       "    </tr>\n",
       "    <tr>\n",
       "      <th>Biomass_Ecoli_core</th>\n",
       "      <td>0.873922</td>\n",
       "      <td>0.786529</td>\n",
       "    </tr>\n",
       "    <tr>\n",
       "      <th>CO2t</th>\n",
       "      <td>-15.206526</td>\n",
       "      <td>-26.528850</td>\n",
       "    </tr>\n",
       "    <tr>\n",
       "      <th>CS</th>\n",
       "      <td>8.894520</td>\n",
       "      <td>0.848587</td>\n",
       "    </tr>\n",
       "    <tr>\n",
       "      <th>CYTBD</th>\n",
       "      <td>51.239087</td>\n",
       "      <td>35.984865</td>\n",
       "    </tr>\n",
       "    <tr>\n",
       "      <th>D_LACt2</th>\n",
       "      <td>0.000000</td>\n",
       "      <td>-2.145125</td>\n",
       "    </tr>\n",
       "    <tr>\n",
       "      <th>ENO</th>\n",
       "      <td>16.732521</td>\n",
       "      <td>8.686588</td>\n",
       "    </tr>\n",
       "    <tr>\n",
       "      <th>ETOHt2r</th>\n",
       "      <td>0.000000</td>\n",
       "      <td>-2.214323</td>\n",
       "    </tr>\n",
       "    <tr>\n",
       "      <th>EX_ac_e</th>\n",
       "      <td>3.813556</td>\n",
       "      <td>0.000000</td>\n",
       "    </tr>\n",
       "  </tbody>\n",
       "</table>\n",
       "</div>"
      ],
      "text/plain": [
       "                      maximum    minimum\n",
       "ACALD                0.000000  -2.542370\n",
       "ACALDt               0.000000  -2.542370\n",
       "ACKr                 0.000000  -3.813556\n",
       "ACONTa               8.894520   0.848587\n",
       "ACONTb               8.894520   0.848587\n",
       "ACt2r                0.000000  -3.813556\n",
       "ADK1                17.161000   0.000000\n",
       "AKGDH                8.045934   0.000000\n",
       "AKGt2r               0.000000  -1.430083\n",
       "ALCD2x               0.000000  -2.214323\n",
       "ATPM                25.551000   8.390000\n",
       "ATPS4r              59.381062  34.825618\n",
       "Biomass_Ecoli_core   0.873922   0.786529\n",
       "CO2t               -15.206526 -26.528850\n",
       "CS                   8.894520   0.848587\n",
       "CYTBD               51.239087  35.984865\n",
       "D_LACt2              0.000000  -2.145125\n",
       "ENO                 16.732521   8.686588\n",
       "ETOHt2r              0.000000  -2.214323\n",
       "EX_ac_e              3.813556   0.000000"
      ]
     },
     "execution_count": 14,
     "metadata": {},
     "output_type": "execute_result"
    }
   ],
   "source": [
    "fva_result = cobra.flux_analysis.flux_variability_analysis(\n",
    "    model, model.reactions[:20], fraction_of_optimum=0.9)\n",
    "pandas.DataFrame.from_dict(fva_result).T"
   ]
  },
  {
   "cell_type": "markdown",
   "metadata": {},
   "source": [
    "### Running FVA in summary methods\n",
    "Flux variability analysis can also be embedded in calls to summary methods. For instance, the expected variability in substrate consumption and product formation can be quickly found by"
   ]
  },
  {
   "cell_type": "code",
   "execution_count": 15,
   "metadata": {
    "collapsed": false
   },
   "outputs": [
    {
     "name": "stdout",
     "output_type": "stream",
     "text": [
      "IN FLUXES                     OUT FLUXES                    OBJECTIVES          \n",
      "o2_e        -21.80 ± 1.91     h2o_e       27.86 ± 2.86      Biomass_Ecoli_core    0.000\n",
      "glc__D_e     -9.76 ± 0.24     co2_e       21.81 ± 2.86                          \n",
      "nh4_e        -4.84 ± 0.32     h_e         19.51 ± 2.86                          \n",
      "pi_e         -3.13 ± 0.08     for_e        2.86 ± 2.86                          \n",
      "                              ac_e         0.95 ± 0.95                          \n",
      "                              acald_e      0.64 ± 0.64                          \n",
      "                              pyr_e        0.64 ± 0.64                          \n",
      "                              etoh_e       0.55 ± 0.55                          \n",
      "                              lac__D_e     0.54 ± 0.54                          \n",
      "                              succ_e       0.42 ± 0.42                          \n",
      "                              akg_e        0.36 ± 0.36                          \n",
      "                              glu__L_e     0.32 ± 0.32                          \n"
     ]
    }
   ],
   "source": [
    "model.summary(fva=0.95)"
   ]
  },
  {
   "cell_type": "markdown",
   "metadata": {},
   "source": [
    "Similarly, variability in metabolite mass balances can also be checked with flux variability analysis"
   ]
  },
  {
   "cell_type": "code",
   "execution_count": 16,
   "metadata": {
    "collapsed": false
   },
   "outputs": [
    {
     "name": "stdout",
     "output_type": "stream",
     "text": [
      "PRODUCING REACTIONS -- Pyruvate\n",
      "-------------------------------\n",
      "  %             FLUX   RXN ID                        REACTION                       \n",
      " 50.0%   9.76 ± 0.24   GLCpts                     glc__D_e + pep_c --> g6p_c + pyr_c\n",
      " 50.0%   6.13 ± 6.13      PYK                  adp_c + h_c + pep_c --> atp_c + pyr_c\n",
      "\n",
      "CONSUMING REACTIONS -- Pyruvate\n",
      "-------------------------------\n",
      "  %             FLUX   RXN ID                        REACTION                       \n",
      "100.0%  11.34 ± 7.43      PDH     coa_c + nad_c + pyr_c --> accoa_c + co2_c + nadh_c\n"
     ]
    }
   ],
   "source": [
    "model.metabolites.pyr_c.summary(fva=0.95)"
   ]
  },
  {
   "cell_type": "markdown",
   "metadata": {},
   "source": [
    "In these summary methods, the values are reported as a the center point +/- the range of the FVA solution, calculated from the maximum and minimum values."
   ]
  },
  {
   "cell_type": "markdown",
   "metadata": {},
   "source": [
    "## Running pFBA\n",
    "\n",
    "Parsimonious FBA (often written pFBA) finds a flux distribution which gives the optimal growth rate, but minimizes the total sum of flux. This involves solving two sequential linear programs, but is handled transparently by cobrapy. For more details on pFBA, please see [Lewis et al. (2010)](http://dx.doi.org/10.1038/msb.2010.47)."
   ]
  },
  {
   "cell_type": "code",
   "execution_count": 17,
   "metadata": {
    "collapsed": false
   },
   "outputs": [],
   "source": [
    "FBA_sol = model.optimize()\n",
    "pFBA_sol = cobra.flux_analysis.optimize_minimal_flux(model)"
   ]
  },
  {
   "cell_type": "markdown",
   "metadata": {},
   "source": [
    "These functions should give approximately the same objective value"
   ]
  },
  {
   "cell_type": "code",
   "execution_count": 18,
   "metadata": {
    "collapsed": false
   },
   "outputs": [
    {
     "data": {
      "text/plain": [
       "0.0"
      ]
     },
     "execution_count": 18,
     "metadata": {},
     "output_type": "execute_result"
    }
   ],
   "source": [
    "abs(FBA_sol.f - pFBA_sol.f)"
   ]
  }
 ],
 "metadata": {
  "kernelspec": {
   "display_name": "Python 2",
   "language": "python",
   "name": "python2"
  },
  "language_info": {
   "codemirror_mode": {
    "name": "ipython",
    "version": 2
   },
   "file_extension": ".py",
   "mimetype": "text/x-python",
   "name": "python",
   "nbconvert_exporter": "python",
   "pygments_lexer": "ipython2",
   "version": "2.7.10"
  }
 },
 "nbformat": 4,
 "nbformat_minor": 0
}
