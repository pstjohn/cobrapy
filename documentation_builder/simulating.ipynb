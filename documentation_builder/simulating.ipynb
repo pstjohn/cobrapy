{
 "cells": [
  {
   "cell_type": "markdown",
   "metadata": {},
   "source": [
    "# Simulating with FBA\n",
    "\n",
    "Simulations using flux balance analysis can be solved using Model.optimize(). This will maximize or minimize (maximizing is the default) flux through the objective reactions."
   ]
  },
  {
   "cell_type": "code",
   "execution_count": 1,
   "metadata": {
    "collapsed": false
   },
   "outputs": [],
   "source": [
    "import pandas\n",
    "pandas.options.display.max_rows = 100\n",
    "\n",
    "import cobra.test\n",
    "model = cobra.test.create_test_model(\"textbook\")"
   ]
  },
  {
   "cell_type": "markdown",
   "metadata": {},
   "source": [
    "## Running FBA"
   ]
  },
  {
   "cell_type": "code",
   "execution_count": 2,
   "metadata": {
    "collapsed": false
   },
   "outputs": [
    {
     "data": {
      "text/plain": [
       "<Solution 0.87 at 0x7ff4fc14b210>"
      ]
     },
     "execution_count": 2,
     "metadata": {},
     "output_type": "execute_result"
    }
   ],
   "source": [
    "model.optimize()"
   ]
  },
  {
   "cell_type": "markdown",
   "metadata": {},
   "source": [
    "The Model.optimize() function will return a Solution object, which will also be stored at model.solution. A solution object has several attributes:\n",
    "\n",
    " - f: the objective value\n",
    " - status: the status from the linear programming solver\n",
    " - x_dict: a dictionary of {reaction_id: flux_value} (also called \"primal\")\n",
    " - x: a list for x_dict\n",
    " - y_dict: a dictionary of {metabolite_id: dual_value}.\n",
    " - y: a list for y_dict"
   ]
  },
  {
   "cell_type": "markdown",
   "metadata": {},
   "source": [
    "For example, after the last call to model.optimize(), the status should be 'optimal' if the solver returned no errors, and f should be the objective value"
   ]
  },
  {
   "cell_type": "code",
   "execution_count": 3,
   "metadata": {
    "collapsed": false
   },
   "outputs": [
    {
     "data": {
      "text/plain": [
       "'optimal'"
      ]
     },
     "execution_count": 3,
     "metadata": {},
     "output_type": "execute_result"
    }
   ],
   "source": [
    "model.solution.status"
   ]
  },
  {
   "cell_type": "code",
   "execution_count": 4,
   "metadata": {
    "collapsed": false
   },
   "outputs": [
    {
     "data": {
      "text/plain": [
       "0.8739215069684305"
      ]
     },
     "execution_count": 4,
     "metadata": {},
     "output_type": "execute_result"
    }
   ],
   "source": [
    "model.solution.f"
   ]
  },
  {
   "cell_type": "markdown",
   "metadata": {},
   "source": [
    "## Changing the Objectives\n",
    "\n",
    "The objective function is determined from the objective_coefficient attribute of the objective reaction(s). Generally, a \"biomass\" function which describes the composition of metabolites which make up a cell is used."
   ]
  },
  {
   "cell_type": "code",
   "execution_count": 5,
   "metadata": {
    "collapsed": false
   },
   "outputs": [],
   "source": [
    "biomass_rxn = model.reactions.get_by_id(\"Biomass_Ecoli_core\")"
   ]
  },
  {
   "cell_type": "markdown",
   "metadata": {},
   "source": [
    "Currently in the model, there is only one objective reaction (the biomass reaction), with an objective coefficient of 1."
   ]
  },
  {
   "cell_type": "code",
   "execution_count": 6,
   "metadata": {
    "collapsed": false
   },
   "outputs": [
    {
     "data": {
      "text/plain": [
       "{<Reaction Biomass_Ecoli_core at 0x7ff4cb9a8d90>: 1.0}"
      ]
     },
     "execution_count": 6,
     "metadata": {},
     "output_type": "execute_result"
    }
   ],
   "source": [
    "model.objective"
   ]
  },
  {
   "cell_type": "markdown",
   "metadata": {},
   "source": [
    "The objective function can be changed by assigning Model.objective, which can be a reaction object (or just it's name), or a dict of {Reaction: objective_coefficient}."
   ]
  },
  {
   "cell_type": "code",
   "execution_count": 7,
   "metadata": {
    "collapsed": false
   },
   "outputs": [
    {
     "data": {
      "text/plain": [
       "{<Reaction ATPM at 0x7ff4cb9a8b10>: 1}"
      ]
     },
     "execution_count": 7,
     "metadata": {},
     "output_type": "execute_result"
    }
   ],
   "source": [
    "# change the objective to ATPM\n",
    "model.objective = \"ATPM\"\n",
    "\n",
    "# The upper bound should be 1000, so that we get\n",
    "# the actual optimal value\n",
    "model.reactions.get_by_id(\"ATPM\").upper_bound = 1000.\n",
    "model.objective"
   ]
  },
  {
   "cell_type": "code",
   "execution_count": 8,
   "metadata": {
    "collapsed": false
   },
   "outputs": [
    {
     "data": {
      "text/plain": [
       "174.99999999999997"
      ]
     },
     "execution_count": 8,
     "metadata": {},
     "output_type": "execute_result"
    }
   ],
   "source": [
    "model.optimize().f"
   ]
  },
  {
   "cell_type": "markdown",
   "metadata": {},
   "source": [
    "The objective function can also be changed by setting Reaction.objective_coefficient directly."
   ]
  },
  {
   "cell_type": "code",
   "execution_count": 9,
   "metadata": {
    "collapsed": false
   },
   "outputs": [
    {
     "data": {
      "text/plain": [
       "{<Reaction Biomass_Ecoli_core at 0x7ff4cb9a8d90>: 1.0}"
      ]
     },
     "execution_count": 9,
     "metadata": {},
     "output_type": "execute_result"
    }
   ],
   "source": [
    "model.reactions.get_by_id(\"ATPM\").objective_coefficient = 0.\n",
    "biomass_rxn.objective_coefficient = 1.\n",
    "\n",
    "model.objective"
   ]
  },
  {
   "cell_type": "markdown",
   "metadata": {},
   "source": [
    "## Running FVA\n",
    "\n",
    "FBA will not give always give unique solution, because multiple flux states can achieve the same optimum. FVA (or flux variability analysis) finds the ranges of each metabolic flux at the optimum."
   ]
  },
  {
   "cell_type": "code",
   "execution_count": 10,
   "metadata": {
    "collapsed": false
   },
   "outputs": [
    {
     "data": {
      "text/html": [
       "<div>\n",
       "<table border=\"1\" class=\"dataframe\">\n",
       "  <thead>\n",
       "    <tr style=\"text-align: right;\">\n",
       "      <th></th>\n",
       "      <th>maximum</th>\n",
       "      <th>minimum</th>\n",
       "    </tr>\n",
       "  </thead>\n",
       "  <tbody>\n",
       "    <tr>\n",
       "      <th>ACALD</th>\n",
       "      <td>9.466331e-29</td>\n",
       "      <td>3.720797e-15</td>\n",
       "    </tr>\n",
       "    <tr>\n",
       "      <th>ACALDt</th>\n",
       "      <td>-6.310887e-29</td>\n",
       "      <td>3.720797e-15</td>\n",
       "    </tr>\n",
       "    <tr>\n",
       "      <th>ACKr</th>\n",
       "      <td>-2.524355e-28</td>\n",
       "      <td>3.933509e-15</td>\n",
       "    </tr>\n",
       "    <tr>\n",
       "      <th>ACONTa</th>\n",
       "      <td>6.007250e+00</td>\n",
       "      <td>6.007250e+00</td>\n",
       "    </tr>\n",
       "    <tr>\n",
       "      <th>ACONTb</th>\n",
       "      <td>6.007250e+00</td>\n",
       "      <td>6.007250e+00</td>\n",
       "    </tr>\n",
       "    <tr>\n",
       "      <th>ACt2r</th>\n",
       "      <td>6.121561e-28</td>\n",
       "      <td>3.933509e-15</td>\n",
       "    </tr>\n",
       "    <tr>\n",
       "      <th>ADK1</th>\n",
       "      <td>-4.042971e-14</td>\n",
       "      <td>0.000000e+00</td>\n",
       "    </tr>\n",
       "    <tr>\n",
       "      <th>AKGDH</th>\n",
       "      <td>5.064376e+00</td>\n",
       "      <td>5.064376e+00</td>\n",
       "    </tr>\n",
       "    <tr>\n",
       "      <th>AKGt2r</th>\n",
       "      <td>0.000000e+00</td>\n",
       "      <td>7.079399e-15</td>\n",
       "    </tr>\n",
       "    <tr>\n",
       "      <th>ALCD2x</th>\n",
       "      <td>0.000000e+00</td>\n",
       "      <td>5.729185e-15</td>\n",
       "    </tr>\n",
       "    <tr>\n",
       "      <th>ATPM</th>\n",
       "      <td>8.390000e+00</td>\n",
       "      <td>8.390000e+00</td>\n",
       "    </tr>\n",
       "    <tr>\n",
       "      <th>ATPS4r</th>\n",
       "      <td>4.551401e+01</td>\n",
       "      <td>4.551401e+01</td>\n",
       "    </tr>\n",
       "    <tr>\n",
       "      <th>Biomass_Ecoli_core</th>\n",
       "      <td>8.739215e-01</td>\n",
       "      <td>8.739215e-01</td>\n",
       "    </tr>\n",
       "    <tr>\n",
       "      <th>CO2t</th>\n",
       "      <td>-2.280983e+01</td>\n",
       "      <td>-2.280983e+01</td>\n",
       "    </tr>\n",
       "    <tr>\n",
       "      <th>CS</th>\n",
       "      <td>6.007250e+00</td>\n",
       "      <td>6.007250e+00</td>\n",
       "    </tr>\n",
       "    <tr>\n",
       "      <th>CYTBD</th>\n",
       "      <td>4.359899e+01</td>\n",
       "      <td>4.359899e+01</td>\n",
       "    </tr>\n",
       "    <tr>\n",
       "      <th>D_LACt2</th>\n",
       "      <td>3.660315e-28</td>\n",
       "      <td>4.140787e-15</td>\n",
       "    </tr>\n",
       "    <tr>\n",
       "      <th>ENO</th>\n",
       "      <td>1.471614e+01</td>\n",
       "      <td>1.471614e+01</td>\n",
       "    </tr>\n",
       "    <tr>\n",
       "      <th>ETOHt2r</th>\n",
       "      <td>0.000000e+00</td>\n",
       "      <td>5.729185e-15</td>\n",
       "    </tr>\n",
       "    <tr>\n",
       "      <th>EX_ac_e</th>\n",
       "      <td>-3.933509e-15</td>\n",
       "      <td>0.000000e+00</td>\n",
       "    </tr>\n",
       "  </tbody>\n",
       "</table>\n",
       "</div>"
      ],
      "text/plain": [
       "                         maximum       minimum\n",
       "ACALD               9.466331e-29  3.720797e-15\n",
       "ACALDt             -6.310887e-29  3.720797e-15\n",
       "ACKr               -2.524355e-28  3.933509e-15\n",
       "ACONTa              6.007250e+00  6.007250e+00\n",
       "ACONTb              6.007250e+00  6.007250e+00\n",
       "ACt2r               6.121561e-28  3.933509e-15\n",
       "ADK1               -4.042971e-14  0.000000e+00\n",
       "AKGDH               5.064376e+00  5.064376e+00\n",
       "AKGt2r              0.000000e+00  7.079399e-15\n",
       "ALCD2x              0.000000e+00  5.729185e-15\n",
       "ATPM                8.390000e+00  8.390000e+00\n",
       "ATPS4r              4.551401e+01  4.551401e+01\n",
       "Biomass_Ecoli_core  8.739215e-01  8.739215e-01\n",
       "CO2t               -2.280983e+01 -2.280983e+01\n",
       "CS                  6.007250e+00  6.007250e+00\n",
       "CYTBD               4.359899e+01  4.359899e+01\n",
       "D_LACt2             3.660315e-28  4.140787e-15\n",
       "ENO                 1.471614e+01  1.471614e+01\n",
       "ETOHt2r             0.000000e+00  5.729185e-15\n",
       "EX_ac_e            -3.933509e-15  0.000000e+00"
      ]
     },
     "execution_count": 10,
     "metadata": {},
     "output_type": "execute_result"
    }
   ],
   "source": [
    "fva_result = cobra.flux_analysis.flux_variability_analysis(\n",
    "    model, model.reactions[:20])\n",
    "pandas.DataFrame.from_dict(fva_result).T"
   ]
  },
  {
   "cell_type": "markdown",
   "metadata": {},
   "source": [
    "Setting parameter fraction_of_optimium=0.90 would give the flux ranges for reactions at 90% optimality."
   ]
  },
  {
   "cell_type": "code",
   "execution_count": 11,
   "metadata": {
    "collapsed": false
   },
   "outputs": [
    {
     "data": {
      "text/html": [
       "<div>\n",
       "<table border=\"1\" class=\"dataframe\">\n",
       "  <thead>\n",
       "    <tr style=\"text-align: right;\">\n",
       "      <th></th>\n",
       "      <th>maximum</th>\n",
       "      <th>minimum</th>\n",
       "    </tr>\n",
       "  </thead>\n",
       "  <tbody>\n",
       "    <tr>\n",
       "      <th>ACALD</th>\n",
       "      <td>9.466331e-29</td>\n",
       "      <td>-2.542370</td>\n",
       "    </tr>\n",
       "    <tr>\n",
       "      <th>ACALDt</th>\n",
       "      <td>-6.310887e-29</td>\n",
       "      <td>-2.542370</td>\n",
       "    </tr>\n",
       "    <tr>\n",
       "      <th>ACKr</th>\n",
       "      <td>-3.029226e-28</td>\n",
       "      <td>-3.813556</td>\n",
       "    </tr>\n",
       "    <tr>\n",
       "      <th>ACONTa</th>\n",
       "      <td>8.894520e+00</td>\n",
       "      <td>0.848587</td>\n",
       "    </tr>\n",
       "    <tr>\n",
       "      <th>ACONTb</th>\n",
       "      <td>8.894520e+00</td>\n",
       "      <td>0.848587</td>\n",
       "    </tr>\n",
       "    <tr>\n",
       "      <th>ACt2r</th>\n",
       "      <td>3.407879e-28</td>\n",
       "      <td>-3.813556</td>\n",
       "    </tr>\n",
       "    <tr>\n",
       "      <th>ADK1</th>\n",
       "      <td>1.716100e+01</td>\n",
       "      <td>0.000000</td>\n",
       "    </tr>\n",
       "    <tr>\n",
       "      <th>AKGDH</th>\n",
       "      <td>8.045934e+00</td>\n",
       "      <td>0.000000</td>\n",
       "    </tr>\n",
       "    <tr>\n",
       "      <th>AKGt2r</th>\n",
       "      <td>0.000000e+00</td>\n",
       "      <td>-1.430083</td>\n",
       "    </tr>\n",
       "    <tr>\n",
       "      <th>ALCD2x</th>\n",
       "      <td>0.000000e+00</td>\n",
       "      <td>-2.214323</td>\n",
       "    </tr>\n",
       "    <tr>\n",
       "      <th>ATPM</th>\n",
       "      <td>2.555100e+01</td>\n",
       "      <td>8.390000</td>\n",
       "    </tr>\n",
       "    <tr>\n",
       "      <th>ATPS4r</th>\n",
       "      <td>5.938106e+01</td>\n",
       "      <td>34.825618</td>\n",
       "    </tr>\n",
       "    <tr>\n",
       "      <th>Biomass_Ecoli_core</th>\n",
       "      <td>8.739215e-01</td>\n",
       "      <td>0.786529</td>\n",
       "    </tr>\n",
       "    <tr>\n",
       "      <th>CO2t</th>\n",
       "      <td>-1.520653e+01</td>\n",
       "      <td>-26.528850</td>\n",
       "    </tr>\n",
       "    <tr>\n",
       "      <th>CS</th>\n",
       "      <td>8.894520e+00</td>\n",
       "      <td>0.848587</td>\n",
       "    </tr>\n",
       "    <tr>\n",
       "      <th>CYTBD</th>\n",
       "      <td>5.123909e+01</td>\n",
       "      <td>35.984865</td>\n",
       "    </tr>\n",
       "    <tr>\n",
       "      <th>D_LACt2</th>\n",
       "      <td>0.000000e+00</td>\n",
       "      <td>-2.145125</td>\n",
       "    </tr>\n",
       "    <tr>\n",
       "      <th>ENO</th>\n",
       "      <td>1.673252e+01</td>\n",
       "      <td>8.686588</td>\n",
       "    </tr>\n",
       "    <tr>\n",
       "      <th>ETOHt2r</th>\n",
       "      <td>0.000000e+00</td>\n",
       "      <td>-2.214323</td>\n",
       "    </tr>\n",
       "    <tr>\n",
       "      <th>EX_ac_e</th>\n",
       "      <td>3.813556e+00</td>\n",
       "      <td>0.000000</td>\n",
       "    </tr>\n",
       "  </tbody>\n",
       "</table>\n",
       "</div>"
      ],
      "text/plain": [
       "                         maximum    minimum\n",
       "ACALD               9.466331e-29  -2.542370\n",
       "ACALDt             -6.310887e-29  -2.542370\n",
       "ACKr               -3.029226e-28  -3.813556\n",
       "ACONTa              8.894520e+00   0.848587\n",
       "ACONTb              8.894520e+00   0.848587\n",
       "ACt2r               3.407879e-28  -3.813556\n",
       "ADK1                1.716100e+01   0.000000\n",
       "AKGDH               8.045934e+00   0.000000\n",
       "AKGt2r              0.000000e+00  -1.430083\n",
       "ALCD2x              0.000000e+00  -2.214323\n",
       "ATPM                2.555100e+01   8.390000\n",
       "ATPS4r              5.938106e+01  34.825618\n",
       "Biomass_Ecoli_core  8.739215e-01   0.786529\n",
       "CO2t               -1.520653e+01 -26.528850\n",
       "CS                  8.894520e+00   0.848587\n",
       "CYTBD               5.123909e+01  35.984865\n",
       "D_LACt2             0.000000e+00  -2.145125\n",
       "ENO                 1.673252e+01   8.686588\n",
       "ETOHt2r             0.000000e+00  -2.214323\n",
       "EX_ac_e             3.813556e+00   0.000000"
      ]
     },
     "execution_count": 11,
     "metadata": {},
     "output_type": "execute_result"
    }
   ],
   "source": [
    "fva_result = cobra.flux_analysis.flux_variability_analysis(\n",
    "    model, model.reactions[:20], fraction_of_optimum=0.9)\n",
    "pandas.DataFrame.from_dict(fva_result).T"
   ]
  },
  {
   "cell_type": "markdown",
   "metadata": {},
   "source": [
    "## Running pFBA\n",
    "\n",
    "Parsimonious FBA (often written pFBA) finds a flux distribution which gives the optimal growth rate, but minimizes the total sum of flux. This involves solving two sequential linear programs, but is handled transparently by cobrapy. For more details on pFBA, please see [Lewis et al. (2010)](http://dx.doi.org/10.1038/msb.2010.47)."
   ]
  },
  {
   "cell_type": "code",
   "execution_count": 12,
   "metadata": {
    "collapsed": false
   },
   "outputs": [],
   "source": [
    "FBA_sol = model.optimize()\n",
    "pFBA_sol = cobra.flux_analysis.optimize_minimal_flux(model)"
   ]
  },
  {
   "cell_type": "markdown",
   "metadata": {},
   "source": [
    "These functions should give approximately the same objective value"
   ]
  },
  {
   "cell_type": "code",
   "execution_count": 13,
   "metadata": {
    "collapsed": false
   },
   "outputs": [
    {
     "data": {
      "text/plain": [
       "1.1102230246251565e-16"
      ]
     },
     "execution_count": 13,
     "metadata": {},
     "output_type": "execute_result"
    }
   ],
   "source": [
    "abs(FBA_sol.f - pFBA_sol.f)"
   ]
  }
 ],
 "metadata": {
  "kernelspec": {
   "display_name": "Python 2",
   "language": "python",
   "name": "python2"
  },
  "language_info": {
   "codemirror_mode": {
    "name": "ipython",
    "version": 2
   },
   "file_extension": ".py",
   "mimetype": "text/x-python",
   "name": "python",
   "nbconvert_exporter": "python",
   "pygments_lexer": "ipython2",
   "version": "2.7.6"
  }
 },
 "nbformat": 4,
 "nbformat_minor": 0
}
